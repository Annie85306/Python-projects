{
 "cells": [
  {
   "cell_type": "code",
   "execution_count": 1,
   "id": "298274e4-b5b9-41e3-8b42-506693139167",
   "metadata": {},
   "outputs": [
    {
     "name": "stdout",
     "output_type": "stream",
     "text": [
      "讀取成功\n",
      "MAGIC 大視界LED護眼檯燈 MA328$2,490\n",
      "雙頭 LED 【雙頭夾燈(充電版)】三色調光 護眼檯燈 夾燈 可調色溫 簡約檯燈 檯燈 桌燈 台燈 臺燈 檯燈立燈$299\n",
      "【Philips 飛利浦】 LED檯燈 66137 品慧2代 10.6W 四段觸控調光 護眼檯燈 讀寫檯燈$1,099\n",
      "MAGIC 智能型LED護眼檯燈 MA358（二年保固）$3,690\n",
      "Philips 飛利浦 66251 軒璽二代座夾兩用智慧全光譜護眼檯燈(PD060)$2,999\n",
      "愛迪生 DX 第三代T5雙臂檯燈 TF-3136 DX$2,755\n",
      "工業風金屬檯燈 折疊 360多角度 長臂檯燈 工作燈 閱讀燈 檯燈 黑色 不含燈泡$299\n",
      "InfoThink 史努比桌上型檯燈(含可愛公仔)$1,280\n",
      "BenQ WiT 螢幕閱讀檯燈 智能調光升級版$5,990\n",
      "KINYO   USB供電螢幕掛燈40cm$899\n",
      "太星電工 好視力LED北歐風情護眼夾燈/時尚白 UTA865W$569\n",
      "【日機】檯燈 台灣製造護眼檯燈 閱讀照明燈 工作燈 桌燈 夾燈 NLUD10BT-AC(BK)$2,100\n",
      "復古造型LED燈泡夜燈$199\n",
      "太星電工 好視力LED國民護眼檯燈5W(時尚白)  UTA128W$450\n",
      "檯燈 照明燈 白光 三段調光 床頭燈 小夜燈 書桌燈 彎曲蛇管 閱讀燈$199\n"
     ]
    }
   ],
   "source": [
    "import requests\n",
    "import pandas as pd\n",
    "from bs4 import BeautifulSoup\n",
    "\n",
    "url = 'https://tw.buy.yahoo.com/category/4385983?sort=-sales'\n",
    "headers = {'User-Agent': 'Mozilla/5.0 (Macintosh; Intel Mac OS X 10_15_7) AppleWebKit/537.36 (KHTML, like Gecko) Chrome/127.0.0.0 Safari/537.36'}\n",
    "response = requests.get(url, headers = headers)\n",
    "\n",
    "try:\n",
    "    with open(\"lamp.html\", \"w\", encoding = \"utf-8\") as f:\n",
    "        f.write(response.text)\n",
    "        print(\"讀取成功\")\n",
    "except:\n",
    "    print(\"讀取失敗\")\n",
    "\n",
    "dict = {}\n",
    "soup = BeautifulSoup(response.text, 'html.parser')\n",
    "items = soup.find_all('div', class_ = 'sc-1drl28c-4 dkDIGK')\n",
    "for i in items:\n",
    "    name = i.find('span', class_ = \"sc-dlyefy sc-gKcDdr sc-1drl28c-5 jHwfYO ikfoIQ jZWZIY\")\n",
    "    price = i.find('span', class_ = \"sc-dlyefy sc-gKcDdr dfRcqf hFXgfs\")\n",
    "    if name and price:\n",
    "        print(name.text.strip() + price.text.strip())\n",
    "        name = name.text.strip()\n",
    "        price = price.text.strip()\n",
    "        dict[name] = price\n",
    "\n",
    "df = pd.DataFrame(dict, index = [0])\n",
    "df.to_excel(\"price_comparison.xlsx\", index = False)\n"
   ]
  }
 ],
 "metadata": {
  "kernelspec": {
   "display_name": "Python [conda env:base] *",
   "language": "python",
   "name": "conda-base-py"
  },
  "language_info": {
   "codemirror_mode": {
    "name": "ipython",
    "version": 3
   },
   "file_extension": ".py",
   "mimetype": "text/x-python",
   "name": "python",
   "nbconvert_exporter": "python",
   "pygments_lexer": "ipython3",
   "version": "3.11.5"
  }
 },
 "nbformat": 4,
 "nbformat_minor": 5
}
